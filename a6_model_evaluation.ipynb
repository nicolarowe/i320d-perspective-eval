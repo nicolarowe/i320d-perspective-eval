{
 "cells": [
  {
   "cell_type": "markdown",
   "id": "65d5109c",
   "metadata": {},
   "source": [
    "## Model Evaluation\n",
    "*An Evaluation of Google's Perspective API*"
   ]
  },
  {
   "cell_type": "markdown",
   "id": "25cc4572",
   "metadata": {},
   "source": [
    "### API Set-up"
   ]
  },
  {
   "cell_type": "code",
   "execution_count": 11,
   "id": "a0a8fc9b",
   "metadata": {},
   "outputs": [],
   "source": [
    "from googleapiclient import discovery\n",
    "import json, time\n",
    "\n",
    "API_KEY = 'ENTER API KEY'\n",
    "\n",
    "client = discovery.build(\n",
    "  \"commentanalyzer\",\n",
    "  \"v1alpha1\",\n",
    "  developerKey=API_KEY,\n",
    "  discoveryServiceUrl=\"https://commentanalyzer.googleapis.com/$discovery/rest?version=v1alpha1\",\n",
    "  static_discovery=False,\n",
    ")\n",
    "\n",
    "def analyze_request(comment):\n",
    "    # ensure only 1 request is made per second\n",
    "    time.sleep(1)\n",
    "    body = {\n",
    "  'comment': { 'text': comment },\n",
    "  'requestedAttributes': {'TOXICITY': {}}\n",
    "    }\n",
    "        \n",
    "    response = client.comments().analyze(body=body).execute()\n",
    "    return response['attributeScores']['TOXICITY']['summaryScore']['value']"
   ]
  },
  {
   "cell_type": "markdown",
   "id": "a3eeb81a",
   "metadata": {},
   "source": [
    "### Data Import and Cleaning"
   ]
  },
  {
   "cell_type": "code",
   "execution_count": 2,
   "id": "96ccaa49",
   "metadata": {
    "scrolled": false
   },
   "outputs": [
    {
     "data": {
      "text/html": [
       "<div>\n",
       "<style scoped>\n",
       "    .dataframe tbody tr th:only-of-type {\n",
       "        vertical-align: middle;\n",
       "    }\n",
       "\n",
       "    .dataframe tbody tr th {\n",
       "        vertical-align: top;\n",
       "    }\n",
       "\n",
       "    .dataframe thead th {\n",
       "        text-align: right;\n",
       "    }\n",
       "</style>\n",
       "<table border=\"1\" class=\"dataframe\">\n",
       "  <thead>\n",
       "    <tr style=\"text-align: right;\">\n",
       "      <th></th>\n",
       "      <th>comment_text</th>\n",
       "      <th>toxic</th>\n",
       "    </tr>\n",
       "  </thead>\n",
       "  <tbody>\n",
       "    <tr>\n",
       "      <th>0</th>\n",
       "      <td>Thank you</td>\n",
       "      <td>0</td>\n",
       "    </tr>\n",
       "    <tr>\n",
       "      <th>1</th>\n",
       "      <td>dbadvert tag on KPDFCA   Wow Doesnt seem to...</td>\n",
       "      <td>0</td>\n",
       "    </tr>\n",
       "    <tr>\n",
       "      <th>2</th>\n",
       "      <td>Good Bye Intoronto1125 RIP  Hope to see you in...</td>\n",
       "      <td>1</td>\n",
       "    </tr>\n",
       "    <tr>\n",
       "      <th>3</th>\n",
       "      <td>You were trying to ban me Perhaps in future yo...</td>\n",
       "      <td>1</td>\n",
       "    </tr>\n",
       "    <tr>\n",
       "      <th>4</th>\n",
       "      <td>retarded cousin of the spork</td>\n",
       "      <td>1</td>\n",
       "    </tr>\n",
       "  </tbody>\n",
       "</table>\n",
       "</div>"
      ],
      "text/plain": [
       "                                        comment_text  toxic\n",
       "0                                          Thank you      0\n",
       "1     dbadvert tag on KPDFCA   Wow Doesnt seem to...      0\n",
       "2  Good Bye Intoronto1125 RIP  Hope to see you in...      1\n",
       "3  You were trying to ban me Perhaps in future yo...      1\n",
       "4                       retarded cousin of the spork      1"
      ]
     },
     "execution_count": 2,
     "metadata": {},
     "output_type": "execute_result"
    }
   ],
   "source": [
    "import pandas as pd\n",
    "\n",
    "sample_df = pd.read_csv('toxicity_labeled_test_data_sub_sampled.csv')\n",
    "sample_df = sample_df.dropna()\n",
    "sample_df = sample_df.drop_duplicates()\n",
    "\n",
    "make_numeric = lambda x: 1 if x == 'yes' else 0\n",
    "sample_df['toxic'] = sample_df['toxic'].apply(make_numeric)\n",
    "\n",
    "sample_df.head()"
   ]
  },
  {
   "cell_type": "markdown",
   "id": "6ea72e3f",
   "metadata": {},
   "source": [
    "### Get Toxicity Scores\n",
    "The following cell attempts to gather the toxicity score of every `comment_text`. If the API fails to recognize the language of a comment, the row is skipped. Rows without scores are removed from `sample_df`."
   ]
  },
  {
   "cell_type": "code",
   "execution_count": 3,
   "id": "de1a0046",
   "metadata": {
    "scrolled": true
   },
   "outputs": [],
   "source": [
    "tox_scores = []\n",
    "fails = []\n",
    "for i, row in sample_df.iterrows():\n",
    "    try:\n",
    "        score = analyze_request(row['comment_text'])\n",
    "        tox_scores.append(score)\n",
    "    except:\n",
    "        fails.append(row['comment_text'])\n",
    "\n",
    "sample_df = sample_df[~sample_df['comment_text'].isin(fails)]"
   ]
  },
  {
   "cell_type": "markdown",
   "id": "cf1edd7a",
   "metadata": {},
   "source": [
    "The scores are added to the dataframe in a new column."
   ]
  },
  {
   "cell_type": "code",
   "execution_count": 4,
   "id": "68efa395",
   "metadata": {},
   "outputs": [
    {
     "data": {
      "text/html": [
       "<div>\n",
       "<style scoped>\n",
       "    .dataframe tbody tr th:only-of-type {\n",
       "        vertical-align: middle;\n",
       "    }\n",
       "\n",
       "    .dataframe tbody tr th {\n",
       "        vertical-align: top;\n",
       "    }\n",
       "\n",
       "    .dataframe thead th {\n",
       "        text-align: right;\n",
       "    }\n",
       "</style>\n",
       "<table border=\"1\" class=\"dataframe\">\n",
       "  <thead>\n",
       "    <tr style=\"text-align: right;\">\n",
       "      <th></th>\n",
       "      <th>comment_text</th>\n",
       "      <th>toxic</th>\n",
       "      <th>toxicity_scores</th>\n",
       "    </tr>\n",
       "  </thead>\n",
       "  <tbody>\n",
       "    <tr>\n",
       "      <th>0</th>\n",
       "      <td>Thank you</td>\n",
       "      <td>0</td>\n",
       "      <td>0.011309</td>\n",
       "    </tr>\n",
       "    <tr>\n",
       "      <th>1</th>\n",
       "      <td>dbadvert tag on KPDFCA   Wow Doesnt seem to...</td>\n",
       "      <td>0</td>\n",
       "      <td>0.150481</td>\n",
       "    </tr>\n",
       "    <tr>\n",
       "      <th>2</th>\n",
       "      <td>Good Bye Intoronto1125 RIP  Hope to see you in...</td>\n",
       "      <td>1</td>\n",
       "      <td>0.730815</td>\n",
       "    </tr>\n",
       "    <tr>\n",
       "      <th>3</th>\n",
       "      <td>You were trying to ban me Perhaps in future yo...</td>\n",
       "      <td>1</td>\n",
       "      <td>0.507899</td>\n",
       "    </tr>\n",
       "    <tr>\n",
       "      <th>4</th>\n",
       "      <td>retarded cousin of the spork</td>\n",
       "      <td>1</td>\n",
       "      <td>0.637829</td>\n",
       "    </tr>\n",
       "  </tbody>\n",
       "</table>\n",
       "</div>"
      ],
      "text/plain": [
       "                                        comment_text  toxic  toxicity_scores\n",
       "0                                          Thank you      0         0.011309\n",
       "1     dbadvert tag on KPDFCA   Wow Doesnt seem to...      0         0.150481\n",
       "2  Good Bye Intoronto1125 RIP  Hope to see you in...      1         0.730815\n",
       "3  You were trying to ban me Perhaps in future yo...      1         0.507899\n",
       "4                       retarded cousin of the spork      1         0.637829"
      ]
     },
     "execution_count": 4,
     "metadata": {},
     "output_type": "execute_result"
    }
   ],
   "source": [
    "sample_df['toxicity_scores'] = tox_scores\n",
    "\n",
    "sample_df.head()"
   ]
  },
  {
   "cell_type": "markdown",
   "id": "a93e6841",
   "metadata": {},
   "source": [
    "### Evaluate First Threshold: 0.5\n",
    "A new column is made to store whether the model's scores fall above the set toxicity threshold of 0.5."
   ]
  },
  {
   "cell_type": "code",
   "execution_count": 5,
   "id": "52144ba3",
   "metadata": {},
   "outputs": [
    {
     "data": {
      "text/html": [
       "<div>\n",
       "<style scoped>\n",
       "    .dataframe tbody tr th:only-of-type {\n",
       "        vertical-align: middle;\n",
       "    }\n",
       "\n",
       "    .dataframe tbody tr th {\n",
       "        vertical-align: top;\n",
       "    }\n",
       "\n",
       "    .dataframe thead th {\n",
       "        text-align: right;\n",
       "    }\n",
       "</style>\n",
       "<table border=\"1\" class=\"dataframe\">\n",
       "  <thead>\n",
       "    <tr style=\"text-align: right;\">\n",
       "      <th></th>\n",
       "      <th>comment_text</th>\n",
       "      <th>toxic</th>\n",
       "      <th>toxicity_scores</th>\n",
       "      <th>toxic_predicted</th>\n",
       "    </tr>\n",
       "  </thead>\n",
       "  <tbody>\n",
       "    <tr>\n",
       "      <th>0</th>\n",
       "      <td>Thank you</td>\n",
       "      <td>0</td>\n",
       "      <td>0.011309</td>\n",
       "      <td>0</td>\n",
       "    </tr>\n",
       "    <tr>\n",
       "      <th>1</th>\n",
       "      <td>dbadvert tag on KPDFCA   Wow Doesnt seem to...</td>\n",
       "      <td>0</td>\n",
       "      <td>0.150481</td>\n",
       "      <td>0</td>\n",
       "    </tr>\n",
       "    <tr>\n",
       "      <th>2</th>\n",
       "      <td>Good Bye Intoronto1125 RIP  Hope to see you in...</td>\n",
       "      <td>1</td>\n",
       "      <td>0.730815</td>\n",
       "      <td>1</td>\n",
       "    </tr>\n",
       "    <tr>\n",
       "      <th>3</th>\n",
       "      <td>You were trying to ban me Perhaps in future yo...</td>\n",
       "      <td>1</td>\n",
       "      <td>0.507899</td>\n",
       "      <td>1</td>\n",
       "    </tr>\n",
       "    <tr>\n",
       "      <th>4</th>\n",
       "      <td>retarded cousin of the spork</td>\n",
       "      <td>1</td>\n",
       "      <td>0.637829</td>\n",
       "      <td>1</td>\n",
       "    </tr>\n",
       "  </tbody>\n",
       "</table>\n",
       "</div>"
      ],
      "text/plain": [
       "                                        comment_text  toxic  toxicity_scores  \\\n",
       "0                                          Thank you      0         0.011309   \n",
       "1     dbadvert tag on KPDFCA   Wow Doesnt seem to...      0         0.150481   \n",
       "2  Good Bye Intoronto1125 RIP  Hope to see you in...      1         0.730815   \n",
       "3  You were trying to ban me Perhaps in future yo...      1         0.507899   \n",
       "4                       retarded cousin of the spork      1         0.637829   \n",
       "\n",
       "   toxic_predicted  \n",
       "0                0  \n",
       "1                0  \n",
       "2                1  \n",
       "3                1  \n",
       "4                1  "
      ]
     },
     "execution_count": 5,
     "metadata": {},
     "output_type": "execute_result"
    }
   ],
   "source": [
    "apply_threshold = lambda x: 1 if x > 0.5 else 0\n",
    "\n",
    "sample_df['toxic_predicted'] = sample_df['toxicity_scores'].apply(apply_threshold)\n",
    "\n",
    "sample_df.head()"
   ]
  },
  {
   "cell_type": "code",
   "execution_count": 6,
   "id": "d1afcc55",
   "metadata": {
    "scrolled": true
   },
   "outputs": [
    {
     "name": "stdout",
     "output_type": "stream",
     "text": [
      "              precision    recall  f1-score   support\n",
      "\n",
      "           0       0.97      0.92      0.94       350\n",
      "           1       0.82      0.92      0.87       140\n",
      "\n",
      "    accuracy                           0.92       490\n",
      "   macro avg       0.89      0.92      0.91       490\n",
      "weighted avg       0.93      0.92      0.92       490\n",
      "\n"
     ]
    }
   ],
   "source": [
    "from sklearn.metrics import classification_report\n",
    "\n",
    "print(classification_report(sample_df['toxic'], sample_df['toxic_predicted']))"
   ]
  },
  {
   "cell_type": "markdown",
   "id": "863de0b9",
   "metadata": {},
   "source": [
    "With a 0.5 threshold:\n",
    "- Out of the comments the model predicted as toxic, only 82% were actually toxic (precision).\n",
    "- Out of the comments that were actually toxic, 92% were classified as toxic (recall).\n",
    "- Out of the comments that weren't actually toxic, 92% were classified as not toxic (recall 0).\n",
    "\n",
    "Recall is more important in this case (since we want to promote a positive online space), so we'll next aim for a threshold with a higher TPR."
   ]
  },
  {
   "cell_type": "markdown",
   "id": "49df4ff1",
   "metadata": {},
   "source": [
    "### Evaluate Thresholds Using RoC Curve\n",
    "An RoC curve is created and displayed to analyze the precision and recall of various thresholds."
   ]
  },
  {
   "cell_type": "code",
   "execution_count": 7,
   "id": "4333b215",
   "metadata": {},
   "outputs": [
    {
     "name": "stdout",
     "output_type": "stream",
     "text": [
      " threshold |     tpr    |      fpr\n",
      "0.50938800 | 0.87857143 |  0.08000000\n",
      "0.50759226 | 0.89285714 |  0.08000000\n",
      "0.50247240 | 0.92142857 |  0.08000000\n",
      "0.49777440 | 0.92142857 |  0.08285714\n",
      "0.49139655 | 0.92857143 |  0.08285714\n",
      "0.48021027 | 0.94285714 |  0.08285714\n",
      "0.47119883 | 0.94285714 |  0.08571429\n",
      "0.46186632 | 0.95714286 |  0.08571429\n",
      "0.45090583 | 0.95714286 |  0.09142857\n",
      "0.44753250 | 0.96428571 |  0.09142857\n",
      "0.44039994 | 0.96428571 |  0.09714286\n",
      "0.42985553 | 0.96428571 |  0.11142857\n",
      "0.42691740 | 0.97142857 |  0.12285714\n",
      "0.42568782 | 0.97142857 |  0.12571429\n",
      "0.41910073 | 0.97857143 |  0.12571429\n",
      "0.40336934 | 0.97857143 |  0.12857143\n",
      "0.40148460 | 0.97857143 |  0.13714286\n",
      "0.38601747 | 0.97857143 |  0.14571429\n",
      "0.37751234 | 0.97857143 |  0.15428571\n",
      "0.37222690 | 0.97857143 |  0.16285714\n",
      "0.36662240 | 0.97857143 |  0.16857143\n",
      "0.36095104 | 0.98571429 |  0.17714286\n",
      "0.35614890 | 0.98571429 |  0.18000000\n",
      "0.34757367 | 0.99285714 |  0.18000000\n",
      "0.32816040 | 0.99285714 |  0.18857143\n",
      "0.32660890 | 0.99285714 |  0.20000000\n"
     ]
    }
   ],
   "source": [
    "from sklearn.metrics import roc_curve\n",
    "\n",
    "fpr, tpr, thresholds = roc_curve(y_true = sample_df['toxic'], y_score = sample_df['toxicity_scores'])\n",
    "\n",
    "print(f' threshold |     tpr    |      fpr')\n",
    "for i in range(len(thresholds)):\n",
    "    # filter to thresholds lower than 0.5 and FPR lower than 0.2\n",
    "    if thresholds[i] > 0.51 or fpr[i] > 0.2:\n",
    "        continue\n",
    "    print(f\"{thresholds[i]: ^.8f} | {tpr[i]: ^.8f} | {fpr[i]: ^ .8f}\")"
   ]
  },
  {
   "cell_type": "code",
   "execution_count": 8,
   "id": "9ecd7374",
   "metadata": {
    "scrolled": true
   },
   "outputs": [
    {
     "data": {
      "image/png": "[encoded data removed]",
      "text/plain": [
       "<Figure size 640x480 with 1 Axes>"
      ]
     },
     "metadata": {},
     "output_type": "display_data"
    }
   ],
   "source": [
    "import matplotlib.pyplot as plt\n",
    "\n",
    "plt.scatter(fpr, tpr)\n",
    "plt.xlabel('recall')\n",
    "plt.ylabel('precision')\n",
    "plt.title('precision vs. recall')\n",
    "plt.axvline(0.1)\n",
    "plt.show()"
   ]
  },
  {
   "cell_type": "markdown",
   "id": "640c6ed4",
   "metadata": {},
   "source": [
    "Per the RoC curve, a 0.5 threshold had about a 0.92 TPR and 0.08 FPR. This could be considered good if we wanted to be more lax about catching true positives. We want to catch as many true positives as possible, however, so 0.5 is not a good enough threshold.\n",
    "\n",
    "To balance precision and recall, a threshold of 0.43 will be tested. This should catch around 96% of toxic comments and 10% of non-toxic comments in the filter. In the above scatter plot, this value is also about in the middle of turning point of the RoC curve."
   ]
  },
  {
   "cell_type": "markdown",
   "id": "c413a814",
   "metadata": {},
   "source": [
    "### Evalute New Threshold: 0.43\n",
    "A new column is made to store whether the model's scores fall above the set toxicity threshold of 0.43."
   ]
  },
  {
   "cell_type": "code",
   "execution_count": 9,
   "id": "90286be3",
   "metadata": {},
   "outputs": [
    {
     "data": {
      "text/html": [
       "<div>\n",
       "<style scoped>\n",
       "    .dataframe tbody tr th:only-of-type {\n",
       "        vertical-align: middle;\n",
       "    }\n",
       "\n",
       "    .dataframe tbody tr th {\n",
       "        vertical-align: top;\n",
       "    }\n",
       "\n",
       "    .dataframe thead th {\n",
       "        text-align: right;\n",
       "    }\n",
       "</style>\n",
       "<table border=\"1\" class=\"dataframe\">\n",
       "  <thead>\n",
       "    <tr style=\"text-align: right;\">\n",
       "      <th></th>\n",
       "      <th>comment_text</th>\n",
       "      <th>toxic</th>\n",
       "      <th>toxicity_scores</th>\n",
       "      <th>toxic_predicted</th>\n",
       "      <th>toxic_predicted_new</th>\n",
       "    </tr>\n",
       "  </thead>\n",
       "  <tbody>\n",
       "    <tr>\n",
       "      <th>0</th>\n",
       "      <td>Thank you</td>\n",
       "      <td>0</td>\n",
       "      <td>0.011309</td>\n",
       "      <td>0</td>\n",
       "      <td>0</td>\n",
       "    </tr>\n",
       "    <tr>\n",
       "      <th>1</th>\n",
       "      <td>dbadvert tag on KPDFCA   Wow Doesnt seem to...</td>\n",
       "      <td>0</td>\n",
       "      <td>0.150481</td>\n",
       "      <td>0</td>\n",
       "      <td>0</td>\n",
       "    </tr>\n",
       "    <tr>\n",
       "      <th>2</th>\n",
       "      <td>Good Bye Intoronto1125 RIP  Hope to see you in...</td>\n",
       "      <td>1</td>\n",
       "      <td>0.730815</td>\n",
       "      <td>1</td>\n",
       "      <td>1</td>\n",
       "    </tr>\n",
       "    <tr>\n",
       "      <th>3</th>\n",
       "      <td>You were trying to ban me Perhaps in future yo...</td>\n",
       "      <td>1</td>\n",
       "      <td>0.507899</td>\n",
       "      <td>1</td>\n",
       "      <td>1</td>\n",
       "    </tr>\n",
       "    <tr>\n",
       "      <th>4</th>\n",
       "      <td>retarded cousin of the spork</td>\n",
       "      <td>1</td>\n",
       "      <td>0.637829</td>\n",
       "      <td>1</td>\n",
       "      <td>1</td>\n",
       "    </tr>\n",
       "  </tbody>\n",
       "</table>\n",
       "</div>"
      ],
      "text/plain": [
       "                                        comment_text  toxic  toxicity_scores  \\\n",
       "0                                          Thank you      0         0.011309   \n",
       "1     dbadvert tag on KPDFCA   Wow Doesnt seem to...      0         0.150481   \n",
       "2  Good Bye Intoronto1125 RIP  Hope to see you in...      1         0.730815   \n",
       "3  You were trying to ban me Perhaps in future yo...      1         0.507899   \n",
       "4                       retarded cousin of the spork      1         0.637829   \n",
       "\n",
       "   toxic_predicted  toxic_predicted_new  \n",
       "0                0                    0  \n",
       "1                0                    0  \n",
       "2                1                    1  \n",
       "3                1                    1  \n",
       "4                1                    1  "
      ]
     },
     "execution_count": 9,
     "metadata": {},
     "output_type": "execute_result"
    }
   ],
   "source": [
    "apply_new_threshold = lambda x: 1 if x > 0.43 else 0\n",
    "\n",
    "sample_df['toxic_predicted_new'] = sample_df['toxicity_scores'].apply(apply_new_threshold)\n",
    "\n",
    "sample_df.head()"
   ]
  },
  {
   "cell_type": "code",
   "execution_count": 10,
   "id": "9e3640fb",
   "metadata": {
    "scrolled": true
   },
   "outputs": [
    {
     "name": "stdout",
     "output_type": "stream",
     "text": [
      "              precision    recall  f1-score   support\n",
      "\n",
      "           0       0.98      0.89      0.94       350\n",
      "           1       0.78      0.96      0.86       140\n",
      "\n",
      "    accuracy                           0.91       490\n",
      "   macro avg       0.88      0.93      0.90       490\n",
      "weighted avg       0.93      0.91      0.91       490\n",
      "\n"
     ]
    }
   ],
   "source": [
    "print(classification_report(sample_df['toxic'], sample_df['toxic_predicted_new']))"
   ]
  },
  {
   "cell_type": "markdown",
   "id": "42a87208",
   "metadata": {},
   "source": [
    "With a .43 threshold:\n",
    "- Out of the comments the model predicted as toxic, only 78% were actually toxic (precision).\n",
    "- Out of the comments that were actually toxic, 96% were classified as toxic (recall).\n",
    "- Out of the comments that weren't actually toxic, 89% were classified as not toxic (recall 0).\n",
    "\n",
    "Depending on how comments marked as toxic are dealt with, this could be a good threshold to put into practice. The remaining 4% of uncaught toxic comments can be reported by users. If human moderators can be used to confirm the labelling of comments with scores between around 0.5 and 0.43, this would also allow reasonably free expression online and potentially provide further model training points from this grey area. If the threshold is unquestioningly abided by, however, a little over 1 out of 10 non-toxic comments would be flagged, making for a frustrating user experience."
   ]
  }
 ],
 "metadata": {
  "kernelspec": {
   "display_name": "Python 3 (ipykernel)",
   "language": "python",
   "name": "python3"
  },
  "language_info": {
   "codemirror_mode": {
    "name": "ipython",
    "version": 3
   },
   "file_extension": ".py",
   "mimetype": "text/x-python",
   "name": "python",
   "nbconvert_exporter": "python",
   "pygments_lexer": "ipython3",
   "version": "3.10.8"
  }
 },
 "nbformat": 4,
 "nbformat_minor": 5
}
